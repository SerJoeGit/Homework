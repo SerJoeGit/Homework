{
 "cells": [
  {
   "cell_type": "markdown",
   "id": "b8d2e828",
   "metadata": {},
   "source": [
    "\n",
    "# Задание 1\n"
   ]
  },
  {
   "cell_type": "code",
   "execution_count": 2,
   "id": "ba907081",
   "metadata": {},
   "outputs": [
    {
     "data": {
      "text/plain": [
       "list"
      ]
     },
     "execution_count": 2,
     "metadata": {},
     "output_type": "execute_result"
    }
   ],
   "source": [
    "# *Задание 1*\n",
    "# Дан список с визитами по городам и странам.\n",
    "# Напишите код, который возвращает отфильтрованный список geo_logs,\n",
    "# содержащий только визиты из России.\n",
    "# Считайте, что список geo_logs легко помещается в оперативной памяти.\n",
    "geo_logs = [\n",
    "    {'visit1': ['Москва', 'Россия']},\n",
    "    {'visit2': ['Дели', 'Индия']},\n",
    "    {'visit3': ['Владимир', 'Россия']},\n",
    "    {'visit4': ['Лиссабон', 'Португалия']},\n",
    "    {'visit5': ['Париж', 'Франция']},\n",
    "    {'visit6': ['Лиссабон', 'Португалия']},\n",
    "    {'visit7': ['Тула', 'Россия']},\n",
    "    {'visit8': ['Тула', 'Россия']},\n",
    "    {'visit9': ['Курск', 'Россия']},\n",
    "    {'visit10': ['Архангельск', 'Россия']},\n",
    "]\n",
    "\n",
    "type(geo_logs)\n"
   ]
  },
  {
   "cell_type": "code",
   "execution_count": 56,
   "id": "db5f2c2c",
   "metadata": {},
   "outputs": [
    {
     "data": {
      "text/plain": [
       "10"
      ]
     },
     "execution_count": 56,
     "metadata": {},
     "output_type": "execute_result"
    }
   ],
   "source": [
    "len(geo_logs)"
   ]
  },
  {
   "cell_type": "code",
   "execution_count": 3,
   "id": "9ae588dd",
   "metadata": {},
   "outputs": [
    {
     "name": "stdout",
     "output_type": "stream",
     "text": [
      "[{'visit1': ['Москва', 'Россия']}, {'visit3': ['Владимир', 'Россия']}, {'visit7': ['Тула', 'Россия']}, {'visit8': ['Тула', 'Россия']}, {'visit9': ['Курск', 'Россия']}, {'visit10': ['Архангельск', 'Россия']}]\n"
     ]
    }
   ],
   "source": [
    "#решение в виде списка из словарей\n",
    "geo_logs_sorted = []\n",
    "for i in range(len(geo_logs)):\n",
    "    for value in geo_logs[i].values():\n",
    "           if 'Россия' in value:\n",
    "                geo_logs_sorted.append(geo_logs[i])\n",
    "print(geo_logs_sorted)\n"
   ]
  },
  {
   "cell_type": "code",
   "execution_count": 109,
   "id": "98729aa1",
   "metadata": {},
   "outputs": [
    {
     "name": "stdout",
     "output_type": "stream",
     "text": [
      "{'visit1': ['Москва', 'Россия']}\n",
      "{'visit3': ['Владимир', 'Россия']}\n",
      "{'visit7': ['Тула', 'Россия']}\n",
      "{'visit8': ['Тула', 'Россия']}\n",
      "{'visit9': ['Курск', 'Россия']}\n",
      "{'visit10': ['Архангельск', 'Россия']}\n"
     ]
    }
   ],
   "source": [
    "# решение в виде построчного вывода каждого словаря \n",
    "for i in range(len(geo_logs)):\n",
    "    for value in geo_logs[i].values():\n",
    "           if 'Россия' in value:\n",
    "                print(geo_logs[i])"
   ]
  },
  {
   "cell_type": "code",
   "execution_count": 89,
   "id": "1bb4ea8c",
   "metadata": {},
   "outputs": [
    {
     "data": {
      "text/plain": [
       "True"
      ]
     },
     "execution_count": 89,
     "metadata": {},
     "output_type": "execute_result"
    }
   ],
   "source": [
    "d = ['Москва', 'Россия']\n",
    "'Россия' in d"
   ]
  },
  {
   "cell_type": "code",
   "execution_count": 11,
   "id": "6090acdc",
   "metadata": {},
   "outputs": [
    {
     "data": {
      "text/plain": [
       "{'visit1': ['Москва', 'Россия']}"
      ]
     },
     "execution_count": 11,
     "metadata": {},
     "output_type": "execute_result"
    }
   ],
   "source": [
    "geo_logs[0]"
   ]
  },
  {
   "cell_type": "code",
   "execution_count": 96,
   "id": "a8bb5e5d",
   "metadata": {},
   "outputs": [
    {
     "name": "stdout",
     "output_type": "stream",
     "text": [
      "['Москва', 'Россия']\n"
     ]
    }
   ],
   "source": [
    "values_ = geo_logs[0].values()\n",
    "for i in values_:\n",
    "    if 'Россия' in i:\n",
    "        print(i)"
   ]
  },
  {
   "cell_type": "markdown",
   "id": "dea91a14",
   "metadata": {},
   "source": [
    "\n",
    "# Задание 2\n"
   ]
  },
  {
   "cell_type": "code",
   "execution_count": 249,
   "id": "52e5826e",
   "metadata": {},
   "outputs": [
    {
     "name": "stdout",
     "output_type": "stream",
     "text": [
      "[15, 35, 54, 98, 119, 213]\n",
      "<class 'list'>\n"
     ]
    }
   ],
   "source": [
    "# *Задание 2*\n",
    "# Выведите на экран все уникальные гео-ID из значений словаря ids.\n",
    "# Т. е. список вида [213, 15, 54, 119, 98, 35]\n",
    "ids = {'user1': [213, 213, 213, 15, 213],\n",
    "       'user2': [54, 54, 119, 119, 119], \n",
    "       'user3': [213, 98, 98, 35]}\n",
    "\n",
    "uuniq_id_list = set()             \n",
    "for value in ids.values():\n",
    "    uniq_id_list  = uniq_id_list | (set(value))\n",
    "print(sorted(uniq_id_list)) # ОТВЕТ СТАЛ ЛИСТОМ   \n",
    "print(type(sorted(uniq_id_list)))\n",
    "      "
   ]
  },
  {
   "cell_type": "code",
   "execution_count": 248,
   "id": "eaa4e469",
   "metadata": {},
   "outputs": [
    {
     "name": "stdout",
     "output_type": "stream",
     "text": [
      "{98, 35, 15, 213, 54, 119}\n"
     ]
    }
   ],
   "source": [
    "# ЕСЛИ НЕ ИСПОЛЬЗОВАТЬ SORTED ТО ОТВЕТ ОСТАЕТСЯ МНОЖЕСТВОМ\n",
    "ids = {'user1': [213, 213, 213, 15, 213],\n",
    "       'user2': [54, 54, 119, 119, 119], \n",
    "       'user3': [213, 98, 98, 35]}\n",
    "\n",
    "uuniq_id_list = set()             \n",
    "for value in ids.values():\n",
    "    uniq_id_list  = uniq_id_list | (set(value))\n",
    "print(uniq_id_list)   "
   ]
  },
  {
   "cell_type": "code",
   "execution_count": 239,
   "id": "b76b21c7",
   "metadata": {},
   "outputs": [
    {
     "data": {
      "text/plain": [
       "{0, 4, 5, 6, 7, 8}"
      ]
     },
     "execution_count": 239,
     "metadata": {},
     "output_type": "execute_result"
    }
   ],
   "source": [
    "A = {0, 0}\n",
    "B = {4, 5, 6, 7, 8}\n",
    "A|B\n"
   ]
  },
  {
   "cell_type": "code",
   "execution_count": 240,
   "id": "e18a9dbd",
   "metadata": {},
   "outputs": [
    {
     "data": {
      "text/plain": [
       "{4, 5, 6, 7, 8}"
      ]
     },
     "execution_count": 240,
     "metadata": {},
     "output_type": "execute_result"
    }
   ],
   "source": [
    "a =set()\n",
    "B = {4, 5, 6, 7, 8}\n",
    "a|B"
   ]
  },
  {
   "cell_type": "code",
   "execution_count": 196,
   "id": "f0a21ce6",
   "metadata": {},
   "outputs": [
    {
     "data": {
      "text/plain": [
       "'213, 213, 213, 15, 213'"
      ]
     },
     "execution_count": 196,
     "metadata": {},
     "output_type": "execute_result"
    }
   ],
   "source": [
    "a = [213, 213, 213, 15, 213]\n",
    "str(a).strip('[]')\n",
    "      "
   ]
  },
  {
   "cell_type": "code",
   "execution_count": null,
   "id": "b6a503fb",
   "metadata": {},
   "outputs": [],
   "source": [
    "my_list3 = [11, 22, 33, 44, 55]\n",
    "print(str(my_list3).strip('[]'))"
   ]
  },
  {
   "cell_type": "markdown",
   "id": "a009443d",
   "metadata": {},
   "source": [
    "\n",
    "# Задание 3\n"
   ]
  },
  {
   "cell_type": "code",
   "execution_count": 97,
   "id": "49e55deb",
   "metadata": {},
   "outputs": [
    {
     "name": "stdout",
     "output_type": "stream",
     "text": [
      "Запросов из 2 слов(а) Распределение из общего количества   42.86 %\n",
      "Запросов из 3 слов(а) Распределение из общего количества   57.14 %\n"
     ]
    }
   ],
   "source": [
    "# *Задание 3*\n",
    "# Список поисковых запросов. Получить распределение количества слов в них.\n",
    "# Т. е. поисковых запросов из одного слова 5%, из двух - 7%, из трех - 3% итд.\n",
    "queries = [\n",
    "    'смотреть сериалы онлайн',\n",
    "    'новости спорта',\n",
    "    'афиша кино',\n",
    "    'курс доллара',\n",
    "    'сериалы этим летом',\n",
    "    'курс по питону',\n",
    "    'сериалы про спорт',\n",
    "]\n",
    "\n",
    "sum_words_query = []\n",
    "for i in queries:\n",
    "    x = (len(i.strip().split(\" \")))\n",
    "    sum_words_query.append(x)\n",
    "sum_q = len(sum_words_query)\n",
    "c = sum_words_query.count\n",
    "sorted(list(set(sum_words_query)))\n",
    "for k in sorted(list(set(sum_words_query))):\n",
    "    print('Запросов из',k,'слов(а)', 'Распределение из общего количества  ', f'{c(k)/sum_q*100:.2f}' , '%')"
   ]
  },
  {
   "cell_type": "code",
   "execution_count": 32,
   "id": "c6537d36",
   "metadata": {},
   "outputs": [
    {
     "name": "stdout",
     "output_type": "stream",
     "text": [
      "['смотреть', 'сериалы', 'онлайн']\n",
      "['новости', 'спорта']\n",
      "['афиша', 'кино']\n",
      "['курс', 'доллара']\n",
      "['сериалы', 'этим', 'летом']\n",
      "['курс', 'по', 'питону']\n",
      "['сериалы', 'про', 'спорт']\n",
      "<class 'list'>\n"
     ]
    }
   ],
   "source": [
    "# из списка вытащили строки и использовали метод str.strip([chars]) - str - возвщает строку, shars - удаляемые символы\n",
    "# удалили пробелы после каждого слова\n",
    "#  получили несколько отдельных списков запросов\n",
    "for i in queries:\n",
    "    print((i.strip().split(' ')))\n",
    "print(type((i.strip().split(' '))))"
   ]
  },
  {
   "cell_type": "code",
   "execution_count": 15,
   "id": "bea95b50",
   "metadata": {},
   "outputs": [
    {
     "data": {
      "text/plain": [
       "23"
      ]
     },
     "execution_count": 15,
     "metadata": {},
     "output_type": "execute_result"
    }
   ],
   "source": [
    "# если просто запросить длину одной строчки, то посчитает все  буквы\n",
    "len(queries[0])\n",
    " "
   ]
  },
  {
   "cell_type": "code",
   "execution_count": 31,
   "id": "b5cae0c5",
   "metadata": {},
   "outputs": [
    {
     "name": "stdout",
     "output_type": "stream",
     "text": [
      "3\n",
      "2\n",
      "2\n",
      "2\n",
      "3\n",
      "3\n",
      "3\n"
     ]
    }
   ],
   "source": [
    "# считаем элементы в каждом полученном списке запросов\n",
    "for i in queries:\n",
    "    print(len(i.strip().split(\" \")))"
   ]
  },
  {
   "cell_type": "code",
   "execution_count": 89,
   "id": "3d113142",
   "metadata": {},
   "outputs": [
    {
     "name": "stdout",
     "output_type": "stream",
     "text": [
      "[3, 2, 2, 2, 3, 3, 3]\n",
      "7\n",
      "{2, 3}\n",
      "[2, 3]\n",
      "2\n"
     ]
    }
   ],
   "source": [
    "sum_words_query = []\n",
    "for i in queries:\n",
    "    x = (len(i.strip().split(\" \")))\n",
    "    sum_words_query.append(x)\n",
    "print(sum_words_query)\n",
    "print(len(sum_words_query))\n",
    "print(set(sum_words_query))\n",
    "print(sorted(list(set(sum_words_query))))\n",
    "print(len(list(set(sum_words_query)))) \n"
   ]
  },
  {
   "cell_type": "code",
   "execution_count": 72,
   "id": "01dde109",
   "metadata": {},
   "outputs": [],
   "source": [
    "sum_q =len(sum_words_query) "
   ]
  },
  {
   "cell_type": "code",
   "execution_count": 62,
   "id": "25853fee",
   "metadata": {},
   "outputs": [
    {
     "name": "stdout",
     "output_type": "stream",
     "text": [
      "3\n",
      "4\n"
     ]
    }
   ],
   "source": [
    "\n",
    "c = sum_words_query.count\n",
    "print(c(2))\n",
    "print(c(3))"
   ]
  },
  {
   "cell_type": "code",
   "execution_count": 88,
   "id": "93b87a02",
   "metadata": {},
   "outputs": [
    {
     "name": "stdout",
     "output_type": "stream",
     "text": [
      "2 3 (42.8571) %\n",
      "3 4 (57.1429) %\n"
     ]
    }
   ],
   "source": [
    "for k in sorted(list(set(sum_words_query))):\n",
    "    print(k, c(k), f'({c(k)/sum_q*100:.4f})' , '%')"
   ]
  },
  {
   "cell_type": "code",
   "execution_count": 86,
   "id": "fe84951c",
   "metadata": {},
   "outputs": [
    {
     "data": {
      "text/plain": [
       "'(0.0200)'"
      ]
     },
     "execution_count": 86,
     "metadata": {},
     "output_type": "execute_result"
    }
   ],
   "source": [
    "f'({2/100:.4f})'"
   ]
  },
  {
   "cell_type": "markdown",
   "id": "b0ee6275",
   "metadata": {},
   "source": [
    "\n",
    "# Задание 4\n"
   ]
  },
  {
   "cell_type": "code",
   "execution_count": 2,
   "id": "300fc6de",
   "metadata": {},
   "outputs": [],
   "source": [
    "# *Задание 4*\n",
    "# Дана статистика рекламных каналов по объемам продаж.\n",
    "# Напишите скрипт, который возвращает название канала с максимальным объемом.\n",
    "# Т. е. в данном примере скрипт должен возвращать 'yandex'.\n",
    "stats = {'facebook': 55, 'yandex': 120, 'vk': 115, 'google': 99, 'email': 42, 'ok': 98}"
   ]
  },
  {
   "cell_type": "code",
   "execution_count": 3,
   "id": "e540eb2a",
   "metadata": {},
   "outputs": [
    {
     "name": "stdout",
     "output_type": "stream",
     "text": [
      "yandex\n"
     ]
    }
   ],
   "source": [
    "# Решение\n",
    "stats = {'facebook': 55, 'yandex': 120, 'vk': 115, 'google': 99, 'email': 42, 'ok': 98}\n",
    "print(list(stats.keys())[list(stats.values()).index(max(list(stats.values())))])"
   ]
  },
  {
   "cell_type": "code",
   "execution_count": 123,
   "id": "399fa812",
   "metadata": {},
   "outputs": [
    {
     "name": "stdout",
     "output_type": "stream",
     "text": [
      "[55, 120, 115, 99, 42, 98]\n",
      "['facebook', 'yandex', 'vk', 'google', 'email', 'ok']\n",
      "120\n",
      "yandex\n"
     ]
    }
   ],
   "source": [
    "# объяснение\n",
    "print(list(stats.values()))  # список значей\n",
    "print(list(stats.keys()))    # список ключей\n",
    "print(max(list(stats.values()))) # максимальное значение\n",
    "print(list(stats.keys())[list(stats.values()).index(120)]) "
   ]
  },
  {
   "cell_type": "code",
   "execution_count": 127,
   "id": "280df13e",
   "metadata": {},
   "outputs": [
    {
     "name": "stdout",
     "output_type": "stream",
     "text": [
      "1\n",
      "yandex\n"
     ]
    }
   ],
   "source": [
    "# объяснение с укороченным названием переменных\n",
    "v = list(stats.values()) # создаем список значений \n",
    "k = list(stats.keys())   # создаем список ключей\n",
    "m = max(list(stats.values())) # получаем максимальное значение среди values\n",
    "print(v.index(m))  # получаем значение индекса соответсвующее максимальному значению   в списке values\n",
    "print(k[v.index(m)]) #получаем значени ключа в списке ключей keys по индексу полученному в списке values"
   ]
  },
  {
   "cell_type": "markdown",
   "id": "eab7a586",
   "metadata": {},
   "source": [
    "\n",
    "#  Задание 5\n"
   ]
  },
  {
   "cell_type": "code",
   "execution_count": 259,
   "id": "e2cf06a1",
   "metadata": {},
   "outputs": [
    {
     "name": "stdout",
     "output_type": "stream",
     "text": [
      "Число уникальных пользователей = 4\n",
      "Суммарное количество всех просмотров = 93\n",
      "Cреднее значение просмотров на пользователя =  23.250\n"
     ]
    }
   ],
   "source": [
    "# Дан поток логов по количеству просмотренных страниц для каждого пользователя.\n",
    "# Список отсортирован по ID пользователя. \n",
    "# Вам необходимо написать алгоритм, который считает среднее значение просмотров на пользователя.\n",
    "# Т. е. надо посчитать отношение суммы всех просмотров к количеству уникальных пользователей. \n",
    "# Учтите, что весь список stream не помещается в оперативную память, \n",
    "# т. е. его нужно обрабатывать поэлементно в цикле.\n",
    "# получается 'дата, userID, количество просмотров views'\n",
    "\n",
    "stream = [\n",
    "    '2018-01-01,user1,3',\n",
    "    '2018-01-07,user1,4',\n",
    "    '2018-03-29,user1,1',\n",
    "    '2018-04-04,user1,13',\n",
    "    '2018-01-05,user2,7',\n",
    "    '2018-06-14,user3,4',\n",
    "    '2018-07-02,user3,10',\n",
    "    '2018-03-21,user4,19',\n",
    "    '2018-03-22,user4,4',\n",
    "    '2018-04-22,user4,8',\n",
    "    '2018-05-03,user4,9',\n",
    "    '2018-05-11,user4,11',\n",
    "]\n",
    "#РЕШЕНИЕ\n",
    "\n",
    "user_id = []\n",
    "sum_column_views = 0\n",
    "for i in stream:\n",
    "    elements_stream = i.split(\",\")\n",
    "    column_user_id = elements_stream[1]\n",
    "    user_id.append(column_user_id)\n",
    "    column_views = int(elements_stream[2])\n",
    "    sum_column_views = sum_column_views + column_views\n",
    "uniq_user_id = len(set(user_id))\n",
    "avg_views_to_users = f'{sum_column_views/uniq_user_id:.3f}'\n",
    "print('Число уникальных пользователей =', uniq_user_id)\n",
    "print('Суммарное количество всех просмотров =', sum_column_views)\n",
    "print('Cреднее значение просмотров на пользователя = ', avg_views_to_users)\n",
    "  \n"
   ]
  },
  {
   "cell_type": "code",
   "execution_count": 214,
   "id": "4503fbbe",
   "metadata": {},
   "outputs": [
    {
     "name": "stdout",
     "output_type": "stream",
     "text": [
      "['2018-01-01', 'user1', '3']\n",
      "['2018-01-07', 'user1', '4']\n",
      "['2018-03-29', 'user1', '1']\n",
      "['2018-04-04', 'user1', '13']\n",
      "['2018-01-05', 'user2', '7']\n",
      "['2018-06-14', 'user3', '4']\n",
      "['2018-07-02', 'user3', '10']\n",
      "['2018-03-21', 'user4', '19']\n",
      "['2018-03-22', 'user4', '4']\n",
      "['2018-04-22', 'user4', '8']\n",
      "['2018-05-03', 'user4', '9']\n",
      "['2018-05-11', 'user4', '11']\n"
     ]
    }
   ],
   "source": [
    "#Выбрали каждый элемент списка stream, преобразовали в отдельные списки\n",
    "for i in stream:\n",
    "    print(i.split(\",\"))\n"
   ]
  },
  {
   "cell_type": "code",
   "execution_count": 240,
   "id": "b88cb454",
   "metadata": {},
   "outputs": [
    {
     "name": "stdout",
     "output_type": "stream",
     "text": [
      "['user1', 'user1', 'user1', 'user1', 'user2', 'user3', 'user3', 'user4', 'user4', 'user4', 'user4', 'user4']\n",
      "{'user1', 'user3', 'user2', 'user4'}\n",
      "4\n"
     ]
    }
   ],
   "source": [
    "#Блок вычисления уникальных пользователей \n",
    "user_id = []\n",
    "for i in stream:\n",
    "    elements_stream=i.split(\",\")\n",
    "    column_user_id = elements_stream[1]\n",
    "    user_id.append(column_user_id)\n",
    "print(user_id) \n",
    "print(set(user_id))\n",
    "uniq_user_id = len(set(user_id))\n",
    "print(uniq_user_id)\n",
    "  \n",
    "\n",
    " \n"
   ]
  },
  {
   "cell_type": "code",
   "execution_count": 252,
   "id": "5b05e7fc",
   "metadata": {},
   "outputs": [
    {
     "name": "stdout",
     "output_type": "stream",
     "text": [
      "93\n"
     ]
    }
   ],
   "source": [
    "#Блок вычисления суммарных просмотров\n",
    "sum_column_views = 0\n",
    "for i in stream:\n",
    "    elements_stream=i.split(\",\")\n",
    "    column_views = int(elements_stream[2])\n",
    "    sum_column_views = sum_column_views + column_views\n",
    "print(sum_column_views)\n"
   ]
  },
  {
   "cell_type": "code",
   "execution_count": 173,
   "id": "626b8713",
   "metadata": {},
   "outputs": [
    {
     "data": {
      "text/plain": [
       "'2018-01-01,user1,3'"
      ]
     },
     "execution_count": 173,
     "metadata": {},
     "output_type": "execute_result"
    }
   ],
   "source": [
    "#данный список состоит из строк, то есть не является словарем, поэтому выдается первый элемент списка\n",
    "stream[0]"
   ]
  },
  {
   "cell_type": "markdown",
   "id": "c671b317",
   "metadata": {},
   "source": [
    "\n",
    "# Задание 6\n"
   ]
  },
  {
   "cell_type": "code",
   "execution_count": 14,
   "id": "2da958ee",
   "metadata": {},
   "outputs": [
    {
     "name": "stdout",
     "output_type": "stream",
     "text": [
      "Введите дату, пример 2018-01-01    4131351\n",
      "Введите название компании, пример google   659\n",
      "Данный ключ отствует \n"
     ]
    }
   ],
   "source": [
    "\n",
    "# Дана статистика рекламных кампаний по дням.\n",
    "# Напишите алгоритм, который по паре дата-кампания ищет значение численного столбца.\n",
    "# Т. е. для даты '2018-01-01' и 'google' нужно получить число 25.\n",
    "# Считайте, что все комбинации дата-кампания уникальны, а список stats легко помещается в оперативной памяти.\n",
    "stats = [\n",
    "    ['2018-01-01', 'google', 25],\n",
    "    ['2018-01-01', 'yandex', 65],\n",
    "    ['2018-01-01', 'market', 89],\n",
    "    ['2018-01-02', 'google', 574],\n",
    "    ['2018-01-02', 'yandex', 249],\n",
    "    ['2018-01-02', 'market', 994],\n",
    "    ['2018-01-03', 'google', 1843],\n",
    "    ['2018-01-03', 'yandex', 1327],\n",
    "    ['2018-01-03', 'market', 1764],\n",
    "]\n",
    "stats_dict = {}\n",
    "key = []\n",
    "range_list = len(stats)\n",
    "i=0\n",
    "while i <range_list:\n",
    "    key.append(stats[i][0])\n",
    "    key.append(stats[i][1])\n",
    "    stats_dict[tuple(key)] = stats[i][2]\n",
    "    i+=1\n",
    "    key=[]\n",
    "\n",
    "key_quer_date = input('Введите дату, пример 2018-01-01    ')\n",
    "key_quer_company = input('Введите название компании, пример google   ')\n",
    "if  (key_quer_date,key_quer_company) in stats_dict:\n",
    "    print('Значение равно', stats_dict[key_quer_date,key_quer_company])\n",
    "else:\n",
    "    print('Данный ключ отствует ')\n"
   ]
  },
  {
   "cell_type": "code",
   "execution_count": 13,
   "id": "ee639a45",
   "metadata": {},
   "outputs": [
    {
     "name": "stdout",
     "output_type": "stream",
     "text": [
      "{'2018-01-01': 179, '2018-01-02': 1817, '2018-01-03': 4934}\n",
      "{'google': 2442, 'yandex': 1641, 'market': 2847}\n"
     ]
    }
   ],
   "source": [
    "#Просто пример работы со списком с вложенными списками\n",
    "stats = [\n",
    "    ['2018-01-01', 'google', 25],\n",
    "    ['2018-01-01', 'yandex', 65],\n",
    "    ['2018-01-01', 'market', 89],\n",
    "    ['2018-01-02', 'google', 574],\n",
    "    ['2018-01-02', 'yandex', 249],\n",
    "    ['2018-01-02', 'market', 994],\n",
    "    ['2018-01-03', 'google', 1843],\n",
    "    ['2018-01-03', 'yandex', 1327],\n",
    "    ['2018-01-03', 'market', 1764],\n",
    "]\n",
    "date_values = {}\n",
    "company_values = {}\n",
    "for line in stats:\n",
    "    date_values.setdefault(line[0], 0)\n",
    "    date_values[line[0]] += line[2] #сумма значений на каждую дату\n",
    "    #print(date_values)\n",
    "    company_values.setdefault(line[1], 0)\n",
    "    company_values[line[1]] += line[2] #сумма значений на каждую компанию\n",
    "    #print(company_values)\n",
    "\n",
    "print(date_values)\n",
    "print(company_values)"
   ]
  },
  {
   "cell_type": "markdown",
   "id": "07335da4",
   "metadata": {},
   "source": [
    "# Задание 6 бонусный вариант"
   ]
  },
  {
   "cell_type": "code",
   "execution_count": 44,
   "id": "f87076c2",
   "metadata": {},
   "outputs": [
    {
     "name": "stdout",
     "output_type": "stream",
     "text": [
      "Введите дату, пример 2018-01-01    2018-01-03\n",
      "Введите название компании, пример google   yandex\n",
      "Значение равно 1327\n"
     ]
    }
   ],
   "source": [
    "# Дана статистика рекламных кампаний по дням.\n",
    "# Напишите алгоритм, который по паре дата-кампания ищет значение численного столбца.\n",
    "# Т. е. для даты '2018-01-01' и 'google' нужно получить число 25.\n",
    "# Считайте, что все комбинации дата-кампания уникальны, а список stats легко помещается в оперативной памяти.\n",
    "# Рассмотрите обобщенный вариант этой задачи: имеется таблица из n столбцов.\n",
    "# Первые n-1 столбцов - признаки (комбинации этих признаков в таблице уникальные).\n",
    "# Последний столбец - значение.\n",
    "# Вам необходимо по набору n-1 признаков найти соответствующую строчку в таблице и вернуть значение из правого столбца.\n",
    "stats = [\n",
    "    ['2018-01-01', 'google', 25],\n",
    "    ['2018-01-01', 'yandex', 65],\n",
    "    ['2018-01-01', 'market', 89],\n",
    "    ['2018-01-02', 'google', 574],\n",
    "    ['2018-01-02', 'yandex', 249],\n",
    "    ['2018-01-02', 'market', 994],\n",
    "    ['2018-01-03', 'google', 1843],\n",
    "    ['2018-01-03', 'yandex', 1327],\n",
    "    ['2018-01-03', 'market', 1764],\n",
    "]\n",
    "stats_dict = {}\n",
    "range_list = len(stats)\n",
    "range_column = len (stats[0])\n",
    "i=0\n",
    "while i <range_list:\n",
    "    key=[]\n",
    "    for x in range(range_column-1):\n",
    "        key.append(stats[i][x])\n",
    "    stats_dict[tuple(key)] = stats[i][-1]\n",
    "    i+=1\n",
    "key_quer_date = input('Введите дату, пример 2018-01-01    ')\n",
    "key_quer_company = input('Введите название компании, пример google   ')\n",
    "if  (key_quer_date,key_quer_company) in stats_dict:\n",
    "    print('Значение равно', stats_dict[key_quer_date,key_quer_company])\n",
    "else:\n",
    "    print('Данный ключ отствует ')\n"
   ]
  },
  {
   "cell_type": "code",
   "execution_count": 25,
   "id": "d06c19d0",
   "metadata": {},
   "outputs": [
    {
     "name": "stdout",
     "output_type": "stream",
     "text": [
      "{('2018-01-01', 'google'): 25, ('2018-01-01', 'yandex'): 65, ('2018-01-01', 'market'): 89, ('2018-01-02', 'google'): 574, ('2018-01-02', 'yandex'): 249, ('2018-01-02', 'market'): 994, ('2018-01-03', 'google'): 1843, ('2018-01-03', 'yandex'): 1327, ('2018-01-03', 'market'): 1764}\n"
     ]
    }
   ],
   "source": [
    "#Создали словарьна основе ключа заданного в условии\n",
    "stats_dict = {}\n",
    "key = []\n",
    "range_ = len(stats)\n",
    "i=0\n",
    "while i <range_:\n",
    "    key.append(stats[i][0])\n",
    "    key.append(stats[i][1])\n",
    "    stats_dict[tuple(key)] = stats[i][2]\n",
    "    i+=1\n",
    "    key=[]\n",
    "print(stats_dict)\n"
   ]
  },
  {
   "cell_type": "code",
   "execution_count": 122,
   "id": "5b3cc06f",
   "metadata": {},
   "outputs": [
    {
     "data": {
      "text/plain": [
       "['2018-01-01', 'google', 25]"
      ]
     },
     "execution_count": 122,
     "metadata": {},
     "output_type": "execute_result"
    }
   ],
   "source": [
    "stats[0]\n"
   ]
  },
  {
   "cell_type": "code",
   "execution_count": 127,
   "id": "f85212e3",
   "metadata": {},
   "outputs": [
    {
     "data": {
      "text/plain": [
       "['2018-01-02', 'google', 574]"
      ]
     },
     "execution_count": 127,
     "metadata": {},
     "output_type": "execute_result"
    }
   ],
   "source": []
  },
  {
   "cell_type": "code",
   "execution_count": 133,
   "id": "09be8d90",
   "metadata": {},
   "outputs": [
    {
     "name": "stdout",
     "output_type": "stream",
     "text": [
      "google\n",
      "25\n"
     ]
    }
   ],
   "source": [
    "stats_ = {}\n",
    "print(stats[0][1])\n",
    "print(stats[0][2])"
   ]
  },
  {
   "cell_type": "code",
   "execution_count": 134,
   "id": "247dd118",
   "metadata": {},
   "outputs": [
    {
     "name": "stdout",
     "output_type": "stream",
     "text": [
      "{'google': '25'}\n"
     ]
    }
   ],
   "source": [
    "stats_[a]=b\n",
    "print(stats_)"
   ]
  },
  {
   "cell_type": "code",
   "execution_count": 135,
   "id": "9cb41d96",
   "metadata": {},
   "outputs": [
    {
     "name": "stdout",
     "output_type": "stream",
     "text": [
      "('2018-01-01', 'google')\n"
     ]
    }
   ],
   "source": [
    "key =[]\n",
    "key.append(stats[0][0])\n",
    "key.append(stats[0][1])\n",
    "print(tuple(key))\n"
   ]
  },
  {
   "cell_type": "code",
   "execution_count": 136,
   "id": "8d7fd567",
   "metadata": {},
   "outputs": [
    {
     "name": "stdout",
     "output_type": "stream",
     "text": [
      "{('2018-01-01', 'google'): '25'}\n"
     ]
    }
   ],
   "source": [
    "stats_dict ={}\n",
    "key = tuple(key)\n",
    "stats_dict[key]=b\n",
    "print(stats_dict)\n"
   ]
  },
  {
   "cell_type": "code",
   "execution_count": null,
   "id": "0c939022",
   "metadata": {},
   "outputs": [],
   "source": []
  }
 ],
 "metadata": {
  "kernelspec": {
   "display_name": "Python 3",
   "language": "python",
   "name": "python3"
  },
  "language_info": {
   "codemirror_mode": {
    "name": "ipython",
    "version": 3
   },
   "file_extension": ".py",
   "mimetype": "text/x-python",
   "name": "python",
   "nbconvert_exporter": "python",
   "pygments_lexer": "ipython3",
   "version": "3.8.8"
  }
 },
 "nbformat": 4,
 "nbformat_minor": 5
}
