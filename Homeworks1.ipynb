{
 "cells": [
  {
   "cell_type": "markdown",
   "id": "4c18948a",
   "metadata": {},
   "source": [
    "\n",
    "# Задание 1\n"
   ]
  },
  {
   "cell_type": "code",
   "execution_count": 1,
   "id": "96546b6b",
   "metadata": {},
   "outputs": [
    {
     "data": {
      "text/plain": [
       "True"
      ]
     },
     "execution_count": 1,
     "metadata": {},
     "output_type": "execute_result"
    }
   ],
   "source": [
    "#Даны 2 строки long_phrase и short_phrase. Напишите код, который проверяет действительно ли длинная фраза long_phrase длиннее короткой short_phrase. И выводит True или False в зависимости от результата сравнения.\n",
    "\n",
    "# long_phrase = 'Насколько проще было бы писать программы, если бы не заказчики'\n",
    "# short_phrase = '640Кб должно хватить для любых задач. Билл Гейтс (по легенде)'\n",
    "long_phrase = 'Насколько проще было бы писать программы, если бы не заказчики'\n",
    "short_phrase = '640Кб должно хватить для любых задач. Билл Гейтс (по легенде)'\n",
    "a = len(long_phrase)\n",
    "b = len(short_phrase)\n",
    "a>b"
   ]
  },
  {
   "cell_type": "markdown",
   "id": "87a6c0c2",
   "metadata": {},
   "source": [
    "\n",
    "# Задание 2\n"
   ]
  },
  {
   "cell_type": "code",
   "execution_count": 31,
   "id": "2a883a29",
   "metadata": {},
   "outputs": [
    {
     "name": "stdout",
     "output_type": "stream",
     "text": [
      "Буква \"а\" встречается чаще чем буква \"о\"  7 > 4\n"
     ]
    }
   ],
   "source": [
    "# Дана строка text. Определите какая из двух букв встречается в нем чаще - 'а' или 'и'.\n",
    "# text = 'Если программист в 9-00 утра на работе, значит, он там и ночевал'\n",
    "\n",
    "# P. S. Вам может помочь методы replace или count для строк.\n",
    "text = 'Если программист в 9-00 утра на работе, значит, он там и ночевал'\n",
    "if text.count('а') > text.count('о'):\n",
    "    print('Буква \"а\" встречается чаще чем буква \"о\" ',text.count('а'),'>',text.count('о') )"
   ]
  },
  {
   "cell_type": "markdown",
   "id": "6125d030",
   "metadata": {},
   "source": [
    "\n",
    "# Задание 3\n"
   ]
  },
  {
   "cell_type": "code",
   "execution_count": 52,
   "id": "dbd40903",
   "metadata": {},
   "outputs": [
    {
     "name": "stdout",
     "output_type": "stream",
     "text": [
      "Объем файла равен (213.68)MB\n"
     ]
    }
   ],
   "source": [
    "# Дано значение объема файла в байтах. Напишите перевод этого значения в мегабайты в формате:\n",
    "# 'Объем файла равен 213.68Mb'\n",
    "\n",
    "# P. S. Найдите определение килобайта. Это не 1000 байт.\n",
    "file_size_B = 224059719\n",
    "file_size_MB = file_size_B*1024**(-2)\n",
    "print(f'Объем файла равен ({file_size_MB:.2f})MB')"
   ]
  },
  {
   "cell_type": "markdown",
   "id": "ae34a15d",
   "metadata": {},
   "source": [
    "\n",
    "# Задание 4\n"
   ]
  },
  {
   "cell_type": "code",
   "execution_count": 67,
   "id": "a2cfc387",
   "metadata": {},
   "outputs": [
    {
     "name": "stdout",
     "output_type": "stream",
     "text": [
      " Синус 30 градусов равен 0.50\n"
     ]
    }
   ],
   "source": [
    "# Выведите на экран значение синуса 30 градусов с помощью метода math.sin.\n",
    "import math\n",
    "angle_grad = 30\n",
    "print(f' Синус {angle_grad} градусов равен {math.sin(math.radians(angle_grad)):.2f}')"
   ]
  },
  {
   "cell_type": "markdown",
   "id": "9440dedb",
   "metadata": {},
   "source": [
    "\n",
    "# Задание 5\n"
   ]
  },
  {
   "cell_type": "code",
   "execution_count": 85,
   "id": "ad4f9ad5",
   "metadata": {},
   "outputs": [
    {
     "name": "stdout",
     "output_type": "stream",
     "text": [
      "0.30000000000000004\n",
      "0.3\n",
      "0.5\n",
      "0.30000000000000004\n"
     ]
    }
   ],
   "source": [
    "# В прошлом задании у вас скорее всего не получилось точного значения 0.5 из-за конечной\n",
    "#точности вычисления синуса. Но почему некоторые простые операции также могут \n",
    "#давать неточный результат? \n",
    "#Попробуйте вывести на экран результат операции 0.1 + 0.2. Почему результат неточен?\n",
    "\n",
    "print((0.1+0.2))\n",
    "print((10*0.1+10*0.2)/10)\n",
    "print(5/10)\n",
    "print(10*(0.1+0.2)/10)"
   ]
  },
  {
   "cell_type": "markdown",
   "id": "f7d21323",
   "metadata": {},
   "source": [
    "\n",
    "# Задание посложнее 1\n"
   ]
  },
  {
   "cell_type": "code",
   "execution_count": 91,
   "id": "692e41f3",
   "metadata": {},
   "outputs": [
    {
     "name": "stdout",
     "output_type": "stream",
     "text": [
      "7 5\n"
     ]
    }
   ],
   "source": [
    "# В переменных a и b записаны 2 различных числа. \n",
    "# Вам необходимо написать код, который меняет значения a и b местами \n",
    "# без использования третьей переменной.\n",
    "a=5\n",
    "b=7\n",
    "a,b=b,a\n",
    "print(a,b)"
   ]
  },
  {
   "cell_type": "code",
   "execution_count": 92,
   "id": "119992ad",
   "metadata": {},
   "outputs": [
    {
     "name": "stdout",
     "output_type": "stream",
     "text": [
      "7 5\n"
     ]
    }
   ],
   "source": [
    "# В переменных a и b записаны 2 различных числа. \n",
    "# Вам необходимо написать код, который меняет значения a и b местами \n",
    "# без использования третьей переменной.\n",
    "a=5\n",
    "b=7\n",
    "a=a+b\n",
    "b=a-b\n",
    "a=a-b\n",
    "print(a,b)"
   ]
  },
  {
   "cell_type": "markdown",
   "id": "0cac388f",
   "metadata": {},
   "source": [
    "\n",
    "# Задание посложнее 2\n"
   ]
  },
  {
   "cell_type": "code",
   "execution_count": 159,
   "id": "42788fe4",
   "metadata": {},
   "outputs": [
    {
     "name": "stdout",
     "output_type": "stream",
     "text": [
      "19\n"
     ]
    }
   ],
   "source": [
    "# Дано число в двоичной системе счисления: num=10011.\n",
    "# Напишите алгоритм перевода этого числа в привычную нам десятичную систему счисления.\n",
    "# Возможно, вам понадобится цикл прохождения всех целых чисел от 0 до m:\n",
    "# for n in range(m)\n",
    "num=10010000\n",
    "import math\n",
    "degree = int(math.log10(num)//1)\n",
    "numbi = 0\n",
    "for n in range(degree,-1,-1):\n",
    "    if (num - 10**n) >= 0:\n",
    "        num = num - 10**n\n",
    "        numbi = numbi + 2**n    \n",
    "print(numbi)           \n",
    "    "
   ]
  }
 ],
 "metadata": {
  "kernelspec": {
   "display_name": "Python 3",
   "language": "python",
   "name": "python3"
  },
  "language_info": {
   "codemirror_mode": {
    "name": "ipython",
    "version": 3
   },
   "file_extension": ".py",
   "mimetype": "text/x-python",
   "name": "python",
   "nbconvert_exporter": "python",
   "pygments_lexer": "ipython3",
   "version": "3.8.8"
  }
 },
 "nbformat": 4,
 "nbformat_minor": 5
}
